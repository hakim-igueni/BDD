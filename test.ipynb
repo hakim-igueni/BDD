{
 "cells": [
  {
   "cell_type": "code",
   "execution_count": 7,
   "id": "0dfad21f",
   "metadata": {},
   "outputs": [],
   "source": [
    "import psycopg2\n",
    "from pymongo import MongoClient\n",
    "from bson import ObjectId\n",
    "import pandas as pd"
   ]
  },
  {
   "cell_type": "code",
   "execution_count": 8,
   "id": "ef315dab",
   "metadata": {},
   "outputs": [],
   "source": [
    "# !pip install psycopg2-binary pymongo pandas"
   ]
  },
  {
   "cell_type": "code",
   "execution_count": 10,
   "id": "1091d732",
   "metadata": {},
   "outputs": [],
   "source": [
    "# Connexion PostgreSQL\n",
    "pg_conn = psycopg2.connect(\n",
    "    dbname=\"projet_bdd\",\n",
    "    user=\"postgres\",         # 🔁 adapte ton utilisateur\n",
    "    password=\"ssh\",   # 🔁 adapte ton mot de passe\n",
    "    host=\"localhost\",\n",
    "    port=\"5432\"\n",
    ")\n",
    "pg_cursor = pg_conn.cursor()"
   ]
  },
  {
   "cell_type": "code",
   "execution_count": 11,
   "id": "b7b21268",
   "metadata": {},
   "outputs": [],
   "source": [
    "# Connexion MongoDB\n",
    "mongo_client = MongoClient(\"mongodb://localhost:27017/\")\n",
    "mongo_db = mongo_client[\"projet_bdd\"]\n",
    "commentaires_collection = mongo_db[\"commentaires\"]"
   ]
  },
  {
   "cell_type": "code",
   "execution_count": 15,
   "id": "212aad03",
   "metadata": {},
   "outputs": [],
   "source": [
    "# Fonction : récupérer les avis d’un hébergement avec commentaires enrichis\n",
    "def avis_avec_commentaires(hebergement_id):\n",
    "    # Étape 1 : récupérer les avis depuis PostgreSQL\n",
    "    pg_cursor.execute(\"\"\"\n",
    "        SELECT id, note, utilisateur, date_avis, commentaire_id\n",
    "        FROM Avis\n",
    "        WHERE hebergement_id = %s\n",
    "    \"\"\", (hebergement_id,))\n",
    "    avis_sql = pg_cursor.fetchall()\n",
    "\n",
    "    # Étape 2 : récupérer les commentaires depuis MongoDB\n",
    "    commentaire_ids = [ObjectId(row[4]) for row in avis_sql]\n",
    "    commentaires = {\n",
    "        str(doc[\"_id\"]): doc for doc in commentaires_collection.find(\n",
    "            {\"_id\": {\"$in\": commentaire_ids}}\n",
    "        )\n",
    "    }\n",
    "\n",
    "    # Étape 3 : fusionner les données\n",
    "    data = []\n",
    "    for row in avis_sql:\n",
    "        id_, note, user, date, commentaire_id = row\n",
    "        commentaire_doc = commentaires.get(commentaire_id, {})\n",
    "        data.append({\n",
    "            \"Utilisateur\": user,\n",
    "            \"Note\": note,\n",
    "            \"Date\": date,\n",
    "            \"Commentaire\": commentaire_doc.get(\"contenu\", \"N/A\"),\n",
    "            \"Images\": commentaire_doc.get(\"images\", []),\n",
    "        })\n",
    "\n",
    "    return pd.DataFrame(data)"
   ]
  },
  {
   "cell_type": "code",
   "execution_count": 17,
   "id": "e7d2bbc7",
   "metadata": {},
   "outputs": [
    {
     "data": {
      "text/html": [
       "<div>\n",
       "<style scoped>\n",
       "    .dataframe tbody tr th:only-of-type {\n",
       "        vertical-align: middle;\n",
       "    }\n",
       "\n",
       "    .dataframe tbody tr th {\n",
       "        vertical-align: top;\n",
       "    }\n",
       "\n",
       "    .dataframe thead th {\n",
       "        text-align: right;\n",
       "    }\n",
       "</style>\n",
       "<table border=\"1\" class=\"dataframe\">\n",
       "  <thead>\n",
       "    <tr style=\"text-align: right;\">\n",
       "      <th></th>\n",
       "      <th>Utilisateur</th>\n",
       "      <th>Note</th>\n",
       "      <th>Date</th>\n",
       "      <th>Commentaire</th>\n",
       "      <th>Images</th>\n",
       "    </tr>\n",
       "  </thead>\n",
       "  <tbody>\n",
       "    <tr>\n",
       "      <th>0</th>\n",
       "      <td>alice@example.com</td>\n",
       "      <td>5</td>\n",
       "      <td>2025-05-20</td>\n",
       "      <td>Très bon séjour, personnel accueillant.</td>\n",
       "      <td>[]</td>\n",
       "    </tr>\n",
       "    <tr>\n",
       "      <th>1</th>\n",
       "      <td>bob@example.com</td>\n",
       "      <td>4</td>\n",
       "      <td>2025-05-22</td>\n",
       "      <td>Bon rapport qualité prix.</td>\n",
       "      <td>[]</td>\n",
       "    </tr>\n",
       "  </tbody>\n",
       "</table>\n",
       "</div>"
      ],
      "text/plain": [
       "         Utilisateur  Note        Date  \\\n",
       "0  alice@example.com     5  2025-05-20   \n",
       "1    bob@example.com     4  2025-05-22   \n",
       "\n",
       "                               Commentaire Images  \n",
       "0  Très bon séjour, personnel accueillant.     []  \n",
       "1                Bon rapport qualité prix.     []  "
      ]
     },
     "execution_count": 17,
     "metadata": {},
     "output_type": "execute_result"
    }
   ],
   "source": [
    "#  Exemple d'appel\n",
    "avis_avec_commentaires(1)\n"
   ]
  },
  {
   "cell_type": "code",
   "execution_count": 18,
   "id": "7ec8a68c",
   "metadata": {},
   "outputs": [],
   "source": [
    "from datetime import datetime\n",
    "from bson import ObjectId\n",
    "\n",
    "def ajouter_avis_et_commentaire(hebergement_id, utilisateur, note, contenu, images=None, reponses=None):\n",
    "    # Valeurs par défaut\n",
    "    images = images or []\n",
    "    reponses = reponses or []\n",
    "\n",
    "    # Création du document commentaire\n",
    "    commentaire = {\n",
    "        \"contenu\": contenu,\n",
    "        \"images\": images,\n",
    "        \"date_commentaire\": datetime.utcnow(),\n",
    "        \"reponses\": reponses  # liste de dictionnaires {\"utilisateur\":..., \"contenu\":..., \"date\":...}\n",
    "    }\n",
    "\n",
    "    # Insertion dans MongoDB\n",
    "    result = commentaires_collection.insert_one(commentaire)\n",
    "    commentaire_id = str(result.inserted_id)\n",
    "\n",
    "    # Insertion de l'avis lié dans PostgreSQL\n",
    "    pg_cursor.execute(\"\"\"\n",
    "        INSERT INTO Avis (note, utilisateur, date_avis, commentaire_id, hebergement_id)\n",
    "        VALUES (%s, %s, %s, %s, %s)\n",
    "    \"\"\", (\n",
    "        note,\n",
    "        utilisateur,\n",
    "        datetime.today().date(),\n",
    "        commentaire_id,\n",
    "        hebergement_id\n",
    "    ))\n",
    "    pg_conn.commit()\n",
    "\n",
    "    print(f\"✅ Avis et commentaire insérés. ID du commentaire : {commentaire_id}\")\n"
   ]
  },
  {
   "cell_type": "code",
   "execution_count": 19,
   "id": "b228e8e1",
   "metadata": {},
   "outputs": [
    {
     "name": "stdout",
     "output_type": "stream",
     "text": [
      "✅ Avis et commentaire insérés. ID du commentaire : 684f7d7a29bc3be0dfbd8ff2\n"
     ]
    }
   ],
   "source": [
    "ajouter_avis_et_commentaire(\n",
    "    hebergement_id=2,\n",
    "    utilisateur=\"lea@example.com\",\n",
    "    note=4,\n",
    "    contenu=\"Très belle auberge, je recommande.\",\n",
    "    images=[\"photo1.jpg\", \"photo2.jpg\"],\n",
    "    reponses=[\n",
    "        {\n",
    "            \"utilisateur\": \"auberge@example.com\",\n",
    "            \"contenu\": \"Merci pour votre retour 😊\",\n",
    "            \"date\": datetime(2025, 5, 30)\n",
    "        }\n",
    "    ]\n",
    ")\n"
   ]
  },
  {
   "cell_type": "code",
   "execution_count": null,
   "id": "a465baee",
   "metadata": {},
   "outputs": [],
   "source": [
    "684f7d7a29bc3be0dfbd8ff2\n",
    "684f7d7a29bc3be0dfbd8ff2"
   ]
  },
  {
   "cell_type": "code",
   "execution_count": 20,
   "id": "bf795446",
   "metadata": {},
   "outputs": [],
   "source": [
    "def ajouter_avis_et_commentaire(conn_pg, collection_mongo, note, utilisateur, date_avis, hebergement_id, **kwargs):\n",
    "    from datetime import datetime\n",
    "    from bson import ObjectId\n",
    "    import psycopg2.extras\n",
    "\n",
    "    # 1. Créer le commentaire MongoDB avec champs dynamiques\n",
    "    commentaire = {\n",
    "        \"contenu\": kwargs.get(\"contenu\", \"\"),\n",
    "        \"date_commentaire\": kwargs.get(\"date_commentaire\", datetime.utcnow()),\n",
    "        \"avis_id\": kwargs.get(\"avis_id\"),  # peut être mis à jour ensuite\n",
    "        \"reponses\": kwargs.get(\"reponses\", [])\n",
    "    }\n",
    "\n",
    "    # Ajouter les autres champs dynamiques comme vidéos, liens...\n",
    "    for key in kwargs:\n",
    "        if key not in commentaire:\n",
    "            commentaire[key] = kwargs[key]\n",
    "\n",
    "    result = collection_mongo.insert_one(commentaire)\n",
    "    commentaire_id = str(result.inserted_id)\n",
    "\n",
    "    # 2. Insérer l'avis dans PostgreSQL\n",
    "    cur = conn_pg.cursor()\n",
    "    cur.execute(\"\"\"\n",
    "        INSERT INTO Avis (note, utilisateur, date_avis, commentaire_id, hebergement_id)\n",
    "        VALUES (%s, %s, %s, %s, %s)\n",
    "        RETURNING id\n",
    "    \"\"\", (note, utilisateur, date_avis, commentaire_id, hebergement_id))\n",
    "    conn_pg.commit()\n",
    "    cur.close()\n",
    "    return commentaire_id\n"
   ]
  },
  {
   "cell_type": "code",
   "execution_count": null,
   "id": "0783bafd",
   "metadata": {},
   "outputs": [
    {
     "ename": "NameError",
     "evalue": "name 'conn_pg' is not defined",
     "output_type": "error",
     "traceback": [
      "\u001b[1;31m---------------------------------------------------------------------------\u001b[0m",
      "\u001b[1;31mNameError\u001b[0m                                 Traceback (most recent call last)",
      "\u001b[1;32m~\\AppData\\Local\\Temp/ipykernel_18972/815341977.py\u001b[0m in \u001b[0;36m<module>\u001b[1;34m\u001b[0m\n\u001b[0;32m      1\u001b[0m ajouter_avis_et_commentaire(\n\u001b[1;32m----> 2\u001b[1;33m     \u001b[0mconn_pg\u001b[0m\u001b[1;33m,\u001b[0m \u001b[0mcommentaires\u001b[0m\u001b[1;33m,\u001b[0m\u001b[1;33m\u001b[0m\u001b[1;33m\u001b[0m\u001b[0m\n\u001b[0m\u001b[0;32m      3\u001b[0m     \u001b[0mnote\u001b[0m\u001b[1;33m=\u001b[0m\u001b[1;36m4\u001b[0m\u001b[1;33m,\u001b[0m\u001b[1;33m\u001b[0m\u001b[1;33m\u001b[0m\u001b[0m\n\u001b[0;32m      4\u001b[0m     \u001b[0mutilisateur\u001b[0m\u001b[1;33m=\u001b[0m\u001b[1;34m\"nora@example.com\"\u001b[0m\u001b[1;33m,\u001b[0m\u001b[1;33m\u001b[0m\u001b[1;33m\u001b[0m\u001b[0m\n\u001b[0;32m      5\u001b[0m     \u001b[0mdate_avis\u001b[0m\u001b[1;33m=\u001b[0m\u001b[1;34m\"2025-06-15\"\u001b[0m\u001b[1;33m,\u001b[0m\u001b[1;33m\u001b[0m\u001b[1;33m\u001b[0m\u001b[0m\n",
      "\u001b[1;31mNameError\u001b[0m: name 'conn_pg' is not defined"
     ]
    }
   ],
   "source": [
    "ajouter_avis_et_commentaire(\n",
    "    pg_conn, commentaires_collection,\n",
    "    note=4,\n",
    "    utilisateur=\"nora@example.com\",\n",
    "    date_avis=\"2025-06-15\",\n",
    "    hebergement_id=2,\n",
    "    contenu=\"Expérience magique !\",\n",
    "    videos=[\"https://youtu.be/video123\"],\n",
    "    tags=[\"été\", \"romantique\"]\n",
    ")\n"
   ]
  }
 ],
 "metadata": {
  "kernelspec": {
   "display_name": "base",
   "language": "python",
   "name": "python3"
  },
  "language_info": {
   "codemirror_mode": {
    "name": "ipython",
    "version": 3
   },
   "file_extension": ".py",
   "mimetype": "text/x-python",
   "name": "python",
   "nbconvert_exporter": "python",
   "pygments_lexer": "ipython3",
   "version": "3.9.7"
  }
 },
 "nbformat": 4,
 "nbformat_minor": 5
}
